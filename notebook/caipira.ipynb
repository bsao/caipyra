{
 "cells": [
  {
   "cell_type": "markdown",
   "metadata": {},
   "source": [
    "Import's básicos"
   ]
  },
  {
   "cell_type": "code",
   "execution_count": null,
   "metadata": {
    "collapsed": false
   },
   "outputs": [],
   "source": [
    "import pprint\n",
    "from json import loads\n",
    "from IPython.display import display\n",
    "\n",
    "from pyspark import SparkContext\n",
    "sc = SparkContext()"
   ]
  },
  {
   "cell_type": "markdown",
   "metadata": {},
   "source": [
    "criação de um RDD atraves de uma collection"
   ]
  },
  {
   "cell_type": "code",
   "execution_count": null,
   "metadata": {
    "collapsed": true
   },
   "outputs": [],
   "source": [
    "numbers = sc.parallelize(range(0, 1000000))"
   ]
  },
  {
   "cell_type": "code",
   "execution_count": null,
   "metadata": {
    "collapsed": false
   },
   "outputs": [],
   "source": [
    "numbers.count()"
   ]
  },
  {
   "cell_type": "markdown",
   "metadata": {
    "collapsed": true
   },
   "source": [
    "criação atraves de um arquivo texto:\n",
    "\n",
    "### estrutura\n",
    "\n",
    "```javascript\n",
    "[{  \n",
    "   \"track_disc_number\":1,\n",
    "   \"album_id\":\"7vEJAtP3KgKSpOHVgwm3Eh\",\n",
    "   \"track_lyrics\":\"Love, love me do\\nYou know I love you\\nI'll always be true\\nSo please, love me do\\nWhoa, love me do\\n\\nLove, love me do\\nYou know I love you\\nI'll always be true\\nSo please, love me do\\nWhoa, love me do\\n\\nSomeone to love\\nSomebody new\\nSomeone to love\\nSomeone like you\\n\\nLove, love me do\\nYou know I love you\\nI'll always be true\\nSo please, love me do\\nWhoa, love me do\\n\\nLove, love me do\\nYou know I love you\\nI'll always be true\\nSo please, love me do\\nWhoa, love me do\\nYeah, love me do\\nWhoa, love me do\\nYeah, love me do\",\n",
    "   \"track_duration\":140173,\n",
    "   \"album_type\":\"album\",\n",
    "   \"track_id\":\"4aX3n1Pn6jiCbvqBL8eqyP\",\n",
    "   \"track_name\":\"Love Me Do\",\n",
    "   \"track_explicit\":false,\n",
    "   \"album_image\":\"https://i.scdn.co/image/9ecfdf528562cae879748b73bd81b64dfa3d5704\",\n",
    "   \"track_number\":1,\n",
    "   \"album_name\":\"1\",\n",
    "   \"artist_name\":\"The Beatles\"\n",
    "}]\n",
    "```\n",
    "\n",
    "### map\n",
    "aplica uma **function** a cada elemento do RDD\n"
   ]
  },
  {
   "cell_type": "code",
   "execution_count": null,
   "metadata": {
    "collapsed": true
   },
   "outputs": [],
   "source": [
    "lyrics = sc.textFile('artists.json')\n",
    "rdd = lyrics.map(loads)"
   ]
  },
  {
   "cell_type": "markdown",
   "metadata": {},
   "source": [
    "Quantas musicas beatles?"
   ]
  },
  {
   "cell_type": "code",
   "execution_count": null,
   "metadata": {
    "collapsed": false,
    "scrolled": true
   },
   "outputs": [],
   "source": [
    "rdd.count()"
   ]
  },
  {
   "cell_type": "markdown",
   "metadata": {},
   "source": [
    "Vamos olhar como nosso RDD está!"
   ]
  },
  {
   "cell_type": "code",
   "execution_count": null,
   "metadata": {
    "collapsed": false,
    "scrolled": true
   },
   "outputs": [],
   "source": [
    "rdd.collect()"
   ]
  },
  {
   "cell_type": "markdown",
   "metadata": {},
   "source": [
    "Vamos distinguir todas os nomes de música!"
   ]
  },
  {
   "cell_type": "code",
   "execution_count": null,
   "metadata": {
    "collapsed": false
   },
   "outputs": [],
   "source": [
    "rdd.map(lambda l: l['track_name']).distinct().collect()"
   ]
  },
  {
   "cell_type": "markdown",
   "metadata": {},
   "source": [
    "### flatMap\n",
    "\n",
    "funciona como o **map**, porem ao final da operaçao, os elementos são **flattening** (achatamento)\n",
    "\n",
    "```javascript\n",
    "((\"Love\",\"Me\",\"Do\"),(\"In\", \"my\", \"Life\")) = (\"Love\", \"Me\", \"Do\", \"In\", \"my\", \"Life\")\n",
    "```"
   ]
  },
  {
   "cell_type": "code",
   "execution_count": null,
   "metadata": {
    "collapsed": false
   },
   "outputs": [],
   "source": [
    "def tokenize(lyric):\n",
    "    return lyric['track_name'].split()\n",
    "\n",
    "beatles = rdd.flatMap(tokenize)"
   ]
  },
  {
   "cell_type": "code",
   "execution_count": null,
   "metadata": {
    "collapsed": false
   },
   "outputs": [],
   "source": [
    "beatles.collect()"
   ]
  },
  {
   "cell_type": "code",
   "execution_count": null,
   "metadata": {
    "collapsed": true
   },
   "outputs": [],
   "source": [
    "beatles = beatles.map(lambda word: (word, 1))"
   ]
  },
  {
   "cell_type": "code",
   "execution_count": null,
   "metadata": {
    "collapsed": false
   },
   "outputs": [],
   "source": [
    "beatles.collect()"
   ]
  },
  {
   "cell_type": "markdown",
   "metadata": {},
   "source": [
    "Mergea os valores de cada chave.\n",
    "```javascript\n",
    "((\"Love\",1), (\"Girl\", 1), (\"Girl\", 1)) = ((\"Love\",1), (\"Girl\", 1))\n",
    "```"
   ]
  },
  {
   "cell_type": "code",
   "execution_count": null,
   "metadata": {
    "collapsed": false
   },
   "outputs": [],
   "source": [
    "beatles = beatles.reduceByKey(lambda a, b: a + b)"
   ]
  },
  {
   "cell_type": "code",
   "execution_count": null,
   "metadata": {
    "collapsed": false
   },
   "outputs": [],
   "source": [
    "beatles.collect()"
   ]
  },
  {
   "cell_type": "code",
   "execution_count": null,
   "metadata": {
    "collapsed": true
   },
   "outputs": [],
   "source": [
    "beatles = beatles.map(lambda x:(x[1],x[0]))"
   ]
  },
  {
   "cell_type": "code",
   "execution_count": null,
   "metadata": {
    "collapsed": false
   },
   "outputs": [],
   "source": [
    "beatles.collect()"
   ]
  },
  {
   "cell_type": "code",
   "execution_count": null,
   "metadata": {
    "collapsed": true
   },
   "outputs": [],
   "source": [
    "beatles = beatles.sortByKey(ascending=False)"
   ]
  },
  {
   "cell_type": "code",
   "execution_count": null,
   "metadata": {
    "collapsed": false
   },
   "outputs": [],
   "source": [
    "beatles.collect()"
   ]
  },
  {
   "cell_type": "code",
   "execution_count": null,
   "metadata": {
    "collapsed": false
   },
   "outputs": [],
   "source": [
    "rdd.filter(lambda lyric: 'love' in lyric['track_name'].lower()).count()"
   ]
  },
  {
   "cell_type": "markdown",
   "metadata": {},
   "source": [
    "Um **SQLContext** é usado para criação de **DataFrame**, registra dataframes como tabelas, execução de SQL e leitura de aquivos textuais."
   ]
  },
  {
   "cell_type": "code",
   "execution_count": null,
   "metadata": {
    "collapsed": false
   },
   "outputs": [],
   "source": [
    "from pyspark.sql import SQLContext\n",
    "sql = SQLContext(sc)"
   ]
  },
  {
   "cell_type": "code",
   "execution_count": null,
   "metadata": {
    "collapsed": false
   },
   "outputs": [],
   "source": [
    "df_json = sql.jsonRDD(lyrics)"
   ]
  },
  {
   "cell_type": "code",
   "execution_count": null,
   "metadata": {
    "collapsed": false
   },
   "outputs": [],
   "source": [
    "df_json.show()"
   ]
  },
  {
   "cell_type": "code",
   "execution_count": null,
   "metadata": {
    "collapsed": false
   },
   "outputs": [],
   "source": [
    "df_json.printSchema()"
   ]
  },
  {
   "cell_type": "code",
   "execution_count": null,
   "metadata": {
    "collapsed": false
   },
   "outputs": [],
   "source": [
    "df_beatles = sql.read.json('artists.json')"
   ]
  },
  {
   "cell_type": "code",
   "execution_count": null,
   "metadata": {
    "collapsed": false
   },
   "outputs": [],
   "source": [
    "df_beatles.printSchema()"
   ]
  },
  {
   "cell_type": "code",
   "execution_count": null,
   "metadata": {
    "collapsed": true
   },
   "outputs": [],
   "source": [
    "df_beatles.registerTempTable('beatles')"
   ]
  },
  {
   "cell_type": "code",
   "execution_count": null,
   "metadata": {
    "collapsed": false
   },
   "outputs": [],
   "source": [
    "df_beatles.columns"
   ]
  },
  {
   "cell_type": "markdown",
   "metadata": {},
   "source": [
    "um dataframe do **spark** é diferente de um dataframe do **pandas**, mesmo que os conceitos sejam muito parecidos.\n",
    "um dataframe do spark pode ser converdido facilmente em um dataframe pandas."
   ]
  },
  {
   "cell_type": "code",
   "execution_count": null,
   "metadata": {
    "collapsed": false
   },
   "outputs": [],
   "source": [
    "df_beatles.toPandas()"
   ]
  },
  {
   "cell_type": "code",
   "execution_count": null,
   "metadata": {
    "collapsed": false
   },
   "outputs": [],
   "source": [
    "df_beatles.map(lambda l: l.album_name).collect()"
   ]
  },
  {
   "cell_type": "code",
   "execution_count": null,
   "metadata": {
    "collapsed": false
   },
   "outputs": [],
   "source": [
    "df_beatles.filter(\"track_duration >  300000\").show()"
   ]
  },
  {
   "cell_type": "code",
   "execution_count": null,
   "metadata": {
    "collapsed": false
   },
   "outputs": [],
   "source": [
    "df_beatles.filter(df_beatles.track_duration >  250000).show()"
   ]
  },
  {
   "cell_type": "code",
   "execution_count": null,
   "metadata": {
    "collapsed": false
   },
   "outputs": [],
   "source": [
    "sql.sql('select count(*) as count from beatles').show()"
   ]
  },
  {
   "cell_type": "code",
   "execution_count": null,
   "metadata": {
    "collapsed": false
   },
   "outputs": [],
   "source": [
    "sql.sql('select album_name, count(track_name) as count from beatles group by album_name order by count').show(n=100)"
   ]
  },
  {
   "cell_type": "code",
   "execution_count": null,
   "metadata": {
    "collapsed": false
   },
   "outputs": [],
   "source": [
    "from pyspark.sql import functions as F\n",
    "df_beatles \\\n",
    "    .groupBy(df_beatles.album_name)\\\n",
    "    .count()\\\n",
    "    .orderBy(\"count\") \\\n",
    "    .show(n=100)"
   ]
  },
  {
   "cell_type": "code",
   "execution_count": null,
   "metadata": {
    "collapsed": false
   },
   "outputs": [],
   "source": [
    "df_beatles.toJSON().collect()"
   ]
  }
 ],
 "metadata": {
  "celltoolbar": "Raw Cell Format",
  "kernelspec": {
   "display_name": "Python 3",
   "language": "python",
   "name": "python3"
  },
  "language_info": {
   "codemirror_mode": {
    "name": "ipython",
    "version": 3
   },
   "file_extension": ".py",
   "mimetype": "text/x-python",
   "name": "python",
   "nbconvert_exporter": "python",
   "pygments_lexer": "ipython3",
   "version": "3.5.1"
  },
  "nbpresent": {
   "slides": {
    "376d5f36-e05b-493a-ac3b-3a5325dcb0ed": {
     "id": "376d5f36-e05b-493a-ac3b-3a5325dcb0ed",
     "layout": "grid",
     "prev": "a08251be-4793-461b-9764-6896d6985174",
     "regions": {}
    },
    "5dba75f2-517c-4fe4-a0fd-3ac92a5494e5": {
     "id": "5dba75f2-517c-4fe4-a0fd-3ac92a5494e5",
     "layout": "treemap",
     "prev": null,
     "regions": {
      "8b6c16a1-94b2-4721-9920-9e9a7d72a940": {
       "attrs": {
        "height": 1,
        "treemap:weight": 1,
        "width": 1,
        "x": 0,
        "y": 0
       },
       "content": {
        "cell": "e7065f0d-ec06-4c17-85b2-4356784200ac",
        "part": "whole"
       },
       "id": "8b6c16a1-94b2-4721-9920-9e9a7d72a940"
      }
     }
    },
    "92670ded-788e-47fe-b1ed-a2f780b4c841": {
     "id": "92670ded-788e-47fe-b1ed-a2f780b4c841",
     "layout": "treemap",
     "prev": "5dba75f2-517c-4fe4-a0fd-3ac92a5494e5",
     "regions": {
      "f7337a31-a8d8-4fd8-a1de-7d842b452f9f": {
       "attrs": {
        "height": 1,
        "pad": 0.01,
        "treemap:weight": 1,
        "width": 1,
        "x": 0,
        "y": 0
       },
       "content": {
        "cell": "98a61ee5-6361-4422-94ab-677f34b39d70",
        "part": "whole"
       },
       "id": "f7337a31-a8d8-4fd8-a1de-7d842b452f9f"
      }
     }
    },
    "a08251be-4793-461b-9764-6896d6985174": {
     "id": "a08251be-4793-461b-9764-6896d6985174",
     "layout": "treemap",
     "prev": "f920c057-2d78-4ce9-a6e5-e370556c21a1",
     "regions": {
      "246a0a23-1ebf-4967-a1dc-5dacc8edde18": {
       "attrs": {
        "height": 1,
        "treemap:weight": 1,
        "width": 1,
        "x": 0,
        "y": 0
       },
       "content": {
        "cell": "be265e4d-7ab5-4e26-a2b7-addade27f4c9",
        "part": "source"
       },
       "id": "246a0a23-1ebf-4967-a1dc-5dacc8edde18"
      }
     }
    },
    "f920c057-2d78-4ce9-a6e5-e370556c21a1": {
     "id": "f920c057-2d78-4ce9-a6e5-e370556c21a1",
     "layout": "treemap",
     "prev": "92670ded-788e-47fe-b1ed-a2f780b4c841",
     "regions": {
      "90de583a-94af-464c-ae1f-42653d9b6928": {
       "attrs": {
        "height": 1,
        "pad": 0.01,
        "treemap:weight": 1,
        "width": 1,
        "x": 0,
        "y": 0
       },
       "content": {
        "cell": "67cff9b3-c221-4a56-bf83-763416e9bc7a",
        "part": "whole"
       },
       "id": "90de583a-94af-464c-ae1f-42653d9b6928"
      }
     }
    }
   },
   "themes": {
    "default": "8d9b417d-38da-49ed-8424-16b7a57119e1",
    "theme": {
     "8d9b417d-38da-49ed-8424-16b7a57119e1": {
      "backgrounds": {
       "dc7afa04-bf90-40b1-82a5-726e3cff5267": {
        "background-color": "31af15d2-7e15-44c5-ab5e-e04b16a89eff",
        "id": "dc7afa04-bf90-40b1-82a5-726e3cff5267"
       }
      },
      "id": "8d9b417d-38da-49ed-8424-16b7a57119e1",
      "palette": {
       "19cc588f-0593-49c9-9f4b-e4d7cc113b1c": {
        "id": "19cc588f-0593-49c9-9f4b-e4d7cc113b1c",
        "rgb": [
         252,
         252,
         252
        ]
       },
       "31af15d2-7e15-44c5-ab5e-e04b16a89eff": {
        "id": "31af15d2-7e15-44c5-ab5e-e04b16a89eff",
        "rgb": [
         68,
         68,
         68
        ]
       },
       "50f92c45-a630-455b-aec3-788680ec7410": {
        "id": "50f92c45-a630-455b-aec3-788680ec7410",
        "rgb": [
         197,
         226,
         245
        ]
       },
       "c5cc3653-2ee1-402a-aba2-7caae1da4f6c": {
        "id": "c5cc3653-2ee1-402a-aba2-7caae1da4f6c",
        "rgb": [
         43,
         126,
         184
        ]
       },
       "efa7f048-9acb-414c-8b04-a26811511a21": {
        "id": "efa7f048-9acb-414c-8b04-a26811511a21",
        "rgb": [
         25.118061674008803,
         73.60176211453744,
         107.4819383259912
        ]
       }
      },
      "rules": {
       "a": {
        "color": "19cc588f-0593-49c9-9f4b-e4d7cc113b1c"
       },
       "blockquote": {
        "color": "50f92c45-a630-455b-aec3-788680ec7410",
        "font-size": 3
       },
       "code": {
        "font-family": "Anonymous Pro"
       },
       "h1": {
        "color": "19cc588f-0593-49c9-9f4b-e4d7cc113b1c",
        "font-family": "Merriweather",
        "font-size": 8
       },
       "h2": {
        "color": "19cc588f-0593-49c9-9f4b-e4d7cc113b1c",
        "font-family": "Merriweather",
        "font-size": 6
       },
       "h3": {
        "color": "50f92c45-a630-455b-aec3-788680ec7410",
        "font-family": "Lato",
        "font-size": 5.5
       },
       "h4": {
        "color": "c5cc3653-2ee1-402a-aba2-7caae1da4f6c",
        "font-family": "Lato",
        "font-size": 5
       },
       "h5": {
        "font-family": "Lato"
       },
       "h6": {
        "font-family": "Lato"
       },
       "h7": {
        "font-family": "Lato"
       },
       "li": {
        "color": "50f92c45-a630-455b-aec3-788680ec7410",
        "font-size": 3.25
       },
       "pre": {
        "font-family": "Anonymous Pro",
        "font-size": 4
       }
      },
      "text-base": {
       "color": "19cc588f-0593-49c9-9f4b-e4d7cc113b1c",
       "font-family": "Lato",
       "font-size": 4
      }
     }
    }
   }
  },
  "widgets": {
   "state": {},
   "version": "1.1.2"
  }
 },
 "nbformat": 4,
 "nbformat_minor": 0
}
